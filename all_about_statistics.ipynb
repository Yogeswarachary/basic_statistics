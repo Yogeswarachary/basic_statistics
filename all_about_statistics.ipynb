{
 "cells": [
  {
   "cell_type": "code",
   "execution_count": 1,
   "id": "b7346d01",
   "metadata": {},
   "outputs": [],
   "source": [
    "#import required libraries\n",
    "import pandas as pd"
   ]
  },
  {
   "cell_type": "code",
   "execution_count": 2,
   "id": "0669d7b6",
   "metadata": {},
   "outputs": [],
   "source": [
    "#loading the data\n",
    "data=pd.read_excel(r\"D:\\Excel\\releted to datascience excel files\\marks_sheet.xlsx\")"
   ]
  },
  {
   "cell_type": "markdown",
   "id": "ec4ae8f1",
   "metadata": {},
   "source": [
    "1. head() is used for displaying first 5 rows\n",
    "2. tail() is used for displaying last 5 rows\n",
    "3. if you want to print 10 rows of a dataset use head() with the arguments. head(10) or tail(10)"
   ]
  },
  {
   "cell_type": "code",
   "execution_count": 3,
   "id": "8a431f08",
   "metadata": {
    "scrolled": false
   },
   "outputs": [
    {
     "data": {
      "text/html": [
       "<div>\n",
       "<style scoped>\n",
       "    .dataframe tbody tr th:only-of-type {\n",
       "        vertical-align: middle;\n",
       "    }\n",
       "\n",
       "    .dataframe tbody tr th {\n",
       "        vertical-align: top;\n",
       "    }\n",
       "\n",
       "    .dataframe thead th {\n",
       "        text-align: right;\n",
       "    }\n",
       "</style>\n",
       "<table border=\"1\" class=\"dataframe\">\n",
       "  <thead>\n",
       "    <tr style=\"text-align: right;\">\n",
       "      <th></th>\n",
       "      <th>First_name</th>\n",
       "      <th>Last_name</th>\n",
       "      <th>Gender</th>\n",
       "      <th>Chemistry</th>\n",
       "      <th>Maths</th>\n",
       "      <th>Biology</th>\n",
       "      <th>English</th>\n",
       "      <th>Social</th>\n",
       "      <th>Hindi</th>\n",
       "      <th>Physics</th>\n",
       "      <th>Overall_marks</th>\n",
       "      <th>Full_name</th>\n",
       "      <th>Grades</th>\n",
       "      <th>Subject</th>\n",
       "    </tr>\n",
       "  </thead>\n",
       "  <tbody>\n",
       "    <tr>\n",
       "      <th>0</th>\n",
       "      <td>Yogesh</td>\n",
       "      <td>Modepalli</td>\n",
       "      <td>Male</td>\n",
       "      <td>76</td>\n",
       "      <td>74</td>\n",
       "      <td>98</td>\n",
       "      <td>90</td>\n",
       "      <td>92</td>\n",
       "      <td>92</td>\n",
       "      <td>70</td>\n",
       "      <td>592</td>\n",
       "      <td>Yogesh Modepalli</td>\n",
       "      <td>A</td>\n",
       "      <td>Python</td>\n",
       "    </tr>\n",
       "    <tr>\n",
       "      <th>1</th>\n",
       "      <td>Paul</td>\n",
       "      <td>Revu</td>\n",
       "      <td>Male</td>\n",
       "      <td>55</td>\n",
       "      <td>50</td>\n",
       "      <td>38</td>\n",
       "      <td>88</td>\n",
       "      <td>88</td>\n",
       "      <td>88</td>\n",
       "      <td>69</td>\n",
       "      <td>476</td>\n",
       "      <td>Paul Revu</td>\n",
       "      <td>B</td>\n",
       "      <td>Java</td>\n",
       "    </tr>\n",
       "    <tr>\n",
       "      <th>2</th>\n",
       "      <td>Eswar</td>\n",
       "      <td>Banoth</td>\n",
       "      <td>Male</td>\n",
       "      <td>76</td>\n",
       "      <td>60</td>\n",
       "      <td>61</td>\n",
       "      <td>63</td>\n",
       "      <td>63</td>\n",
       "      <td>63</td>\n",
       "      <td>83</td>\n",
       "      <td>469</td>\n",
       "      <td>Eswar Banoth</td>\n",
       "      <td>D</td>\n",
       "      <td>C#</td>\n",
       "    </tr>\n",
       "    <tr>\n",
       "      <th>3</th>\n",
       "      <td>Vasanthi</td>\n",
       "      <td>Kalvani</td>\n",
       "      <td>Female</td>\n",
       "      <td>89</td>\n",
       "      <td>67</td>\n",
       "      <td>49</td>\n",
       "      <td>69</td>\n",
       "      <td>69</td>\n",
       "      <td>69</td>\n",
       "      <td>76</td>\n",
       "      <td>488</td>\n",
       "      <td>Vasanthi Kalvani</td>\n",
       "      <td>C</td>\n",
       "      <td>java</td>\n",
       "    </tr>\n",
       "    <tr>\n",
       "      <th>4</th>\n",
       "      <td>Ruya Khan</td>\n",
       "      <td>Mohamadh</td>\n",
       "      <td>Female</td>\n",
       "      <td>87</td>\n",
       "      <td>65</td>\n",
       "      <td>80</td>\n",
       "      <td>76</td>\n",
       "      <td>76</td>\n",
       "      <td>76</td>\n",
       "      <td>92</td>\n",
       "      <td>552</td>\n",
       "      <td>Ruya Khan Mohamadh</td>\n",
       "      <td>D</td>\n",
       "      <td>C++</td>\n",
       "    </tr>\n",
       "  </tbody>\n",
       "</table>\n",
       "</div>"
      ],
      "text/plain": [
       "  First_name  Last_name  Gender  Chemistry  Maths  Biology  English  Social  \\\n",
       "0     Yogesh  Modepalli    Male         76     74       98       90      92   \n",
       "1       Paul       Revu    Male         55     50       38       88      88   \n",
       "2      Eswar     Banoth    Male         76     60       61       63      63   \n",
       "3   Vasanthi    Kalvani  Female         89     67       49       69      69   \n",
       "4  Ruya Khan   Mohamadh  Female         87     65       80       76      76   \n",
       "\n",
       "   Hindi  Physics  Overall_marks           Full_name Grades Subject  \n",
       "0     92       70            592    Yogesh Modepalli      A  Python  \n",
       "1     88       69            476           Paul Revu      B    Java  \n",
       "2     63       83            469        Eswar Banoth      D      C#  \n",
       "3     69       76            488    Vasanthi Kalvani      C    java  \n",
       "4     76       92            552  Ruya Khan Mohamadh      D     C++  "
      ]
     },
     "execution_count": 3,
     "metadata": {},
     "output_type": "execute_result"
    }
   ],
   "source": [
    "#print the first 5 rows\n",
    "data.head()"
   ]
  },
  {
   "cell_type": "markdown",
   "id": "b0898fb2",
   "metadata": {},
   "source": [
    "columns() is used for display the column names in the dataset.(actually 'columns' does not need peranthisis)"
   ]
  },
  {
   "cell_type": "code",
   "execution_count": 4,
   "id": "f3b93e94",
   "metadata": {
    "scrolled": true
   },
   "outputs": [
    {
     "data": {
      "text/plain": [
       "Index(['First_name', 'Last_name', 'Gender', 'Chemistry', 'Maths', 'Biology',\n",
       "       'English', 'Social', 'Hindi', 'Physics', 'Overall_marks', 'Full_name',\n",
       "       'Grades', 'Subject'],\n",
       "      dtype='object')"
      ]
     },
     "execution_count": 4,
     "metadata": {},
     "output_type": "execute_result"
    }
   ],
   "source": [
    "data.columns"
   ]
  },
  {
   "cell_type": "markdown",
   "id": "3a0472d8",
   "metadata": {},
   "source": [
    "shape() is used to print the no_of rows and no_columns in the given dataset respectively.(actually 'shape' does not need peranthisis)"
   ]
  },
  {
   "cell_type": "code",
   "execution_count": 5,
   "id": "d949df7b",
   "metadata": {},
   "outputs": [
    {
     "data": {
      "text/plain": [
       "(20, 14)"
      ]
     },
     "execution_count": 5,
     "metadata": {},
     "output_type": "execute_result"
    }
   ],
   "source": [
    "data.shape"
   ]
  },
  {
   "cell_type": "markdown",
   "id": "7c07dad8",
   "metadata": {},
   "source": [
    "mode() is used to print the 'mode' value(most repeated value) of perticular column"
   ]
  },
  {
   "cell_type": "code",
   "execution_count": 6,
   "id": "ca6bbfdf",
   "metadata": {},
   "outputs": [
    {
     "name": "stdout",
     "output_type": "stream",
     "text": [
      "0    76\n",
      "dtype: int64\n"
     ]
    }
   ],
   "source": [
    "#finding the mode\n",
    "mode=data[\"Physics\"].mode()\n",
    "print(mode)"
   ]
  },
  {
   "cell_type": "markdown",
   "id": "377c779c",
   "metadata": {},
   "source": [
    "mean() is used to print the 'mean' value or 'average' value of a perticular column"
   ]
  },
  {
   "cell_type": "code",
   "execution_count": 7,
   "id": "7af54215",
   "metadata": {},
   "outputs": [
    {
     "name": "stdout",
     "output_type": "stream",
     "text": [
      "75.05\n"
     ]
    }
   ],
   "source": [
    "#finding the mean\n",
    "mean=data[\"Physics\"].mean()\n",
    "print(mean)"
   ]
  },
  {
   "cell_type": "markdown",
   "id": "4119d063",
   "metadata": {},
   "source": [
    "Quantile() is used print the perticular amount of data. quantile(0.25) is used to print the mean of the first 25% data. similarly quantile(0.50), quantile(0.75),quantile(1) respectively."
   ]
  },
  {
   "cell_type": "code",
   "execution_count": 8,
   "id": "503a1448",
   "metadata": {},
   "outputs": [],
   "source": [
    "#calculating the quantiles\n",
    "q1=data[\"Physics\"].quantile(0.25)\n",
    "q2=data[\"Physics\"].quantile(0.50)\n",
    "q3=data[\"Physics\"].quantile(0.75)\n",
    "q4=data[\"Physics\"].quantile(1)"
   ]
  },
  {
   "cell_type": "code",
   "execution_count": 9,
   "id": "91c90a97",
   "metadata": {},
   "outputs": [
    {
     "name": "stdout",
     "output_type": "stream",
     "text": [
      "the first quantile 68.25\n",
      "the second quantile 74.0\n",
      "the third quantile 87.0\n",
      "the fourth quqntile 98.0\n"
     ]
    }
   ],
   "source": [
    "#printing the values\n",
    "print(\"the first quantile\",q1)\n",
    "print(\"the second quantile\",q2)\n",
    "print(\"the third quantile\",q3)\n",
    "print(\"the fourth quqntile\",q4)"
   ]
  },
  {
   "cell_type": "markdown",
   "id": "ae9fe693",
   "metadata": {},
   "source": [
    "max() is used for print the maximum value from the perticular column"
   ]
  },
  {
   "cell_type": "code",
   "execution_count": 10,
   "id": "c34e941d",
   "metadata": {},
   "outputs": [
    {
     "name": "stdout",
     "output_type": "stream",
     "text": [
      "98\n"
     ]
    }
   ],
   "source": [
    "#finding the maximum value\n",
    "max_data=data[\"Physics\"].max()\n",
    "print(max_data)"
   ]
  },
  {
   "cell_type": "markdown",
   "id": "ba692299",
   "metadata": {},
   "source": [
    "min() is used for print the minimum value from the perticular column"
   ]
  },
  {
   "cell_type": "code",
   "execution_count": 11,
   "id": "9cc9496f",
   "metadata": {},
   "outputs": [
    {
     "name": "stdout",
     "output_type": "stream",
     "text": [
      "55\n"
     ]
    }
   ],
   "source": [
    "#finding the minimum value\n",
    "min_data=data[\"Physics\"].min()\n",
    "print(min_data)"
   ]
  },
  {
   "cell_type": "code",
   "execution_count": 12,
   "id": "1ca8411e",
   "metadata": {},
   "outputs": [
    {
     "name": "stdout",
     "output_type": "stream",
     "text": [
      "43\n"
     ]
    }
   ],
   "source": [
    "#finding the difference between the maximum value and minimum value or finding a Range\n",
    "range_data=max_data-min_data\n",
    "print(range_data)"
   ]
  },
  {
   "cell_type": "markdown",
   "id": "8b337e67",
   "metadata": {},
   "source": [
    "to get lower bound and upper bound use quantile(0.25) and (0.75)"
   ]
  },
  {
   "cell_type": "code",
   "execution_count": 13,
   "id": "45feeb63",
   "metadata": {},
   "outputs": [],
   "source": [
    "#Finding the Inter Quantile Range,with the help of upper bound value(0.75) and lower bound(0.25)\n",
    "c1=data[\"Physics\"].quantile(0.25)\n",
    "c2=data[\"Physics\"].quantile(0.75)"
   ]
  },
  {
   "cell_type": "code",
   "execution_count": 14,
   "id": "2ffce967",
   "metadata": {},
   "outputs": [
    {
     "name": "stdout",
     "output_type": "stream",
     "text": [
      "Lower_bound 68.25\n",
      "Upper_bound 87.0\n"
     ]
    }
   ],
   "source": [
    "#printing the lower bound and upper_bound values\n",
    "print(\"Lower_bound\",c1)\n",
    "print(\"Upper_bound\",c2)"
   ]
  },
  {
   "cell_type": "markdown",
   "id": "345b6111",
   "metadata": {},
   "source": [
    "difference between lower bound and upper bound is called 'inter quartile range'"
   ]
  },
  {
   "cell_type": "code",
   "execution_count": 15,
   "id": "24265943",
   "metadata": {},
   "outputs": [
    {
     "name": "stdout",
     "output_type": "stream",
     "text": [
      "the Inter_Quantile_Range 18.75\n"
     ]
    }
   ],
   "source": [
    "#finding the inter_quartile_range\n",
    "iqr=c2-c1\n",
    "#printing inter quantile range output\n",
    "print(\"the Inter_Quantile_Range\",iqr)"
   ]
  },
  {
   "cell_type": "markdown",
   "id": "6c9928d5",
   "metadata": {},
   "source": [
    "#finding the variance"
   ]
  },
  {
   "cell_type": "code",
   "execution_count": 16,
   "id": "8edf4c44",
   "metadata": {},
   "outputs": [],
   "source": [
    "##steps to calculate Variance\n",
    "# 1.calculate mean\n",
    "# 2.calculate distance from the mean for each value/element\n",
    "# 3. calculate the square distance\n",
    "# 4.Take the average of squared distance"
   ]
  },
  {
   "cell_type": "code",
   "execution_count": 17,
   "id": "1b497e77",
   "metadata": {},
   "outputs": [
    {
     "name": "stdout",
     "output_type": "stream",
     "text": [
      "mean of the data set 75.05\n"
     ]
    }
   ],
   "source": [
    "#1.calculating the mean\n",
    "mean=data[\"Physics\"].mean()\n",
    "print(\"mean of the data set\",mean)"
   ]
  },
  {
   "cell_type": "code",
   "execution_count": 18,
   "id": "b429ba2e",
   "metadata": {},
   "outputs": [
    {
     "name": "stdout",
     "output_type": "stream",
     "text": [
      "difference between mean and values in the data set 0     -5.05\n",
      "1     -6.05\n",
      "2      7.95\n",
      "3      0.95\n",
      "4     16.95\n",
      "5     12.95\n",
      "6    -12.05\n",
      "7     -6.05\n",
      "8      0.95\n",
      "9     22.95\n",
      "10   -15.05\n",
      "11   -20.05\n",
      "12    -3.05\n",
      "13   -20.05\n",
      "14     0.95\n",
      "15    13.95\n",
      "16    11.95\n",
      "17    -5.05\n",
      "18    -9.05\n",
      "19    11.95\n",
      "Name: Physics, dtype: float64\n"
     ]
    }
   ],
   "source": [
    "#2.calculate distance from the mean for each value/element\n",
    "difference=data[\"Physics\"]-mean\n",
    "print(\"difference between mean and values in the data set\",difference)"
   ]
  },
  {
   "cell_type": "code",
   "execution_count": 19,
   "id": "23107602",
   "metadata": {},
   "outputs": [
    {
     "name": "stdout",
     "output_type": "stream",
     "text": [
      "the square root of the the difference value is 0      25.5025\n",
      "1      36.6025\n",
      "2      63.2025\n",
      "3       0.9025\n",
      "4     287.3025\n",
      "5     167.7025\n",
      "6     145.2025\n",
      "7      36.6025\n",
      "8       0.9025\n",
      "9     526.7025\n",
      "10    226.5025\n",
      "11    402.0025\n",
      "12      9.3025\n",
      "13    402.0025\n",
      "14      0.9025\n",
      "15    194.6025\n",
      "16    142.8025\n",
      "17     25.5025\n",
      "18     81.9025\n",
      "19    142.8025\n",
      "Name: Physics, dtype: float64\n"
     ]
    }
   ],
   "source": [
    "# 3. calculate the square distance\n",
    "square_of_difference=difference**2\n",
    "print(\"the square root of the the difference value is\",square_of_difference)"
   ]
  },
  {
   "cell_type": "code",
   "execution_count": 20,
   "id": "1576f302",
   "metadata": {},
   "outputs": [
    {
     "name": "stdout",
     "output_type": "stream",
     "text": [
      "the variance of the dataset 145.94750000000002\n"
     ]
    }
   ],
   "source": [
    "# 4.Take the average of squared distance\n",
    "variance=square_of_difference.mean()\n",
    "print(\"the variance of the dataset\",variance)"
   ]
  },
  {
   "cell_type": "code",
   "execution_count": 21,
   "id": "8a48953e",
   "metadata": {},
   "outputs": [
    {
     "name": "stdout",
     "output_type": "stream",
     "text": [
      "the variance of the dataset 4916.4875\n"
     ]
    }
   ],
   "source": [
    "#4.Another way of calculating the \"Varience\" formule\n",
    "var_data=data[\"Overall_marks\"].var(ddof = 0)\n",
    "print(\"the variance of the dataset\",var_data)"
   ]
  },
  {
   "cell_type": "markdown",
   "id": "6f5fe727",
   "metadata": {},
   "source": [
    "#finding the standard deveation"
   ]
  },
  {
   "cell_type": "code",
   "execution_count": 22,
   "id": "117aac21",
   "metadata": {},
   "outputs": [
    {
     "name": "stdout",
     "output_type": "stream",
     "text": [
      "the standard deviation of the dataset is:-- 12.080873312803178\n"
     ]
    }
   ],
   "source": [
    "#finding the standard deveation\n",
    "#just do the square root of the variation, then the result is called as Standard_Deveation\n",
    "std_deviation= variance ** (1/2)\n",
    "print(\"the standard deviation of the dataset is:--\",std_deviation)"
   ]
  },
  {
   "cell_type": "code",
   "execution_count": 23,
   "id": "df6f7409",
   "metadata": {},
   "outputs": [
    {
     "data": {
      "text/plain": [
       "12.080873312803178"
      ]
     },
     "execution_count": 23,
     "metadata": {},
     "output_type": "execute_result"
    }
   ],
   "source": [
    "#calculating the standard deviation using the formula\n",
    "std=data[\"Physics\"].std(ddof=0)\n",
    "std"
   ]
  },
  {
   "cell_type": "code",
   "execution_count": null,
   "id": "34b014b5",
   "metadata": {},
   "outputs": [],
   "source": []
  }
 ],
 "metadata": {
  "kernelspec": {
   "display_name": "Python 3",
   "language": "python",
   "name": "python3"
  },
  "language_info": {
   "codemirror_mode": {
    "name": "ipython",
    "version": 3
   },
   "file_extension": ".py",
   "mimetype": "text/x-python",
   "name": "python",
   "nbconvert_exporter": "python",
   "pygments_lexer": "ipython3",
   "version": "3.8.8"
  }
 },
 "nbformat": 4,
 "nbformat_minor": 5
}
